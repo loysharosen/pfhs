{
 "cells": [
  {
   "cell_type": "markdown",
   "id": "5800fb23-bb3a-418f-9db1-717bfb444c3f",
   "metadata": {},
   "source": [
    "TABLE OF CONTENTS\n",
    "\n",
    "00:00:00 - Introduction\n",
    "00:00:24 - Loops\n",
    "00:00:50 - cat.py\n",
    "00:03:24 - while\n",
    "00:16:21 - for\n",
    "00:27:00 - Validating Input\n",
    "00:34:59 - Iteration with Lists\n",
    "00:40:36 - len\n",
    "00:45:47 - Dictionaries\n",
    "00:57:02 - Lists of Dictionaries\n",
    "01:05:02 - Nested Loops\n",
    "01:20:17 - Conclusion"
   ]
  }
 ],
 "metadata": {
  "kernelspec": {
   "display_name": "Python 3 (ipykernel)",
   "language": "python",
   "name": "python3"
  },
  "language_info": {
   "codemirror_mode": {
    "name": "ipython",
    "version": 3
   },
   "file_extension": ".py",
   "mimetype": "text/x-python",
   "name": "python",
   "nbconvert_exporter": "python",
   "pygments_lexer": "ipython3",
   "version": "3.13.5"
  }
 },
 "nbformat": 4,
 "nbformat_minor": 5
}
