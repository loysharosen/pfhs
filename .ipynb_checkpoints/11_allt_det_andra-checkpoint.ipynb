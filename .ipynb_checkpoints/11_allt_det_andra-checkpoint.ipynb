{
 "cells": [
  {
   "cell_type": "markdown",
   "id": "ec6bdcae-f322-42e3-9800-8b2f1cc7562d",
   "metadata": {},
   "source": [
    "TABLE OF CONTENTS\n",
    "\n",
    "00:00:00 - Introduction\n",
    "00:00:24 - Et Cetera\n",
    "00:01:45 - set\n",
    "00:07:37 - global\n",
    "00:23:40 - Constants\n",
    "00:29:17 - Type Hints, mypy\n",
    "00:47:38 - Docstrings\n",
    "00:54:54 - argparse\n",
    "uppackning\n",
    "map\n",
    "listbyggare\n",
    "01:52:30 - filter\n",
    "01:58:34 - Dictionary Comprehensions\n",
    "02:05:20 - enumerate\n",
    "02:08:09 - Generators, Iterators, yield\n",
    "02:23:03 - Conclusion"
   ]
  },
  {
   "cell_type": "markdown",
   "id": "03e02e1d-e1ff-4ee6-a39e-208975c9d2c0",
   "metadata": {},
   "source": [
    "## Uppackning\n",
    "\n",
    "I Python kan man packa upp innehållet i sekvenser av värden på ett praktiskt sätt."
   ]
  },
  {
   "cell_type": "code",
   "execution_count": 12,
   "id": "eb490fbc-d001-49f9-9893-276725fa0ae4",
   "metadata": {},
   "outputs": [
    {
     "name": "stdout",
     "output_type": "stream",
     "text": [
      "Det är 32 grader varmt och klart i Stockholm.\n"
     ]
    }
   ],
   "source": [
    "# Tilldening av lexikon till variabel\n",
    "väder = {\"temp\": 32, \"väder\": \"klart\", \"stad\": \"stockholm\"}\n",
    "\n",
    "# Uppackning av lexikonets värde i tre separata variabler\n",
    "temp, väder, stad = väder.values()\n",
    "\n",
    "print(f\"Det är {temp} grader varmt och {väder} i {stad.capitalize()}.\")"
   ]
  },
  {
   "cell_type": "markdown",
   "id": "f09a026a-23a3-46fc-aefa-0c0e494e6441",
   "metadata": {},
   "source": [
    "Är man ointresserad av värdet i något element kan man ignorera det genom att tilldela värdet till en variabeln \"_\"."
   ]
  },
  {
   "cell_type": "code",
   "execution_count": 14,
   "id": "b344429a-b1b2-4ecf-a319-fcfd0f130f4d",
   "metadata": {},
   "outputs": [
    {
     "name": "stdout",
     "output_type": "stream",
     "text": [
      "Det är 32 grader varmt!\n"
     ]
    }
   ],
   "source": [
    "väder = {\"temp\": 32, \"väder\": \"klart\", \"stad\": \"stockholm\"}\n",
    "\n",
    "temp, _, _ = väder.values()\n",
    "\n",
    "print(f\"Det är {temp} grader varmt!\")"
   ]
  },
  {
   "cell_type": "markdown",
   "id": "3d32c43b-97c9-4901-85bc-3ca5cb73c344",
   "metadata": {},
   "source": [
    "## `map`\n",
    "\n",
    "Funktionen `map()` är användbar när du vill applicera en funktion på samtliga värden i en iterabel (en sekvens av värden, till exempel strängar, listor, lexikon, tupler och mängder). `map()` tar emot två parametrar, funktionen man vill applicera och en iterabel."
   ]
  },
  {
   "cell_type": "code",
   "execution_count": 7,
   "id": "7435f6a1-0335-443b-ad8d-cc8305459897",
   "metadata": {},
   "outputs": [
    {
     "name": "stdout",
     "output_type": "stream",
     "text": [
      "104 101 108 108 111 32 109 121 32 102 114 105 101 110 100 44 32 119 104 97 116 39 115 32 121 111 117 114 32 110 97 109 101 63\n"
     ]
    }
   ],
   "source": [
    "iterable = \"hello my friend, what's your name?\"\n",
    "\n",
    "# Anrop med argumenten ord() och en sträng\n",
    "# ord() återger ett teckens ASCII-värde\n",
    "result = map(ord, iterable)\n",
    "\n",
    "# Skriver ut resultatet av anropet ovan (en sekvens av ASCII-värden)\n",
    "print(*result)"
   ]
  },
  {
   "cell_type": "markdown",
   "id": "0e555ce1-b8f2-44e3-92fd-4ec6ab7c36f9",
   "metadata": {},
   "source": [
    "## Listbyggare\n",
    "\n",
    "Idiomatiskt för Python är att du snabbt och effektivt kan skapa listor utifrån andra sekvenser. Du kan skapa en lista genom att utgå från en befintlig sekvens och utföra ett visst uttryck på alla element i ursprungssekevensen.\n",
    "\n",
    "Syntaxen är följande:\n",
    "`min_lista = [UTTRYCK for ELEMENT in ITERABEL if VILLKOR]`"
   ]
  },
  {
   "cell_type": "code",
   "execution_count": 20,
   "id": "fcbcc9f4-de6d-4a47-8331-32f557535556",
   "metadata": {},
   "outputs": [
    {
     "name": "stdout",
     "output_type": "stream",
     "text": [
      "[9, 25]\n"
     ]
    }
   ],
   "source": [
    "ls1 = (1,2,3,5)\n",
    "\n",
    "# Listbyggare\n",
    "ls2 = [x*x for x in ls1 if x > 2]\n",
    "\n",
    "print(ls2)"
   ]
  }
 ],
 "metadata": {
  "kernelspec": {
   "display_name": "Python 3 (ipykernel)",
   "language": "python",
   "name": "python3"
  },
  "language_info": {
   "codemirror_mode": {
    "name": "ipython",
    "version": 3
   },
   "file_extension": ".py",
   "mimetype": "text/x-python",
   "name": "python",
   "nbconvert_exporter": "python",
   "pygments_lexer": "ipython3",
   "version": "3.13.5"
  }
 },
 "nbformat": 4,
 "nbformat_minor": 5
}
