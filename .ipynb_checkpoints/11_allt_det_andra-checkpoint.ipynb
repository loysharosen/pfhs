{
 "cells": [
  {
   "cell_type": "markdown",
   "id": "ec6bdcae-f322-42e3-9800-8b2f1cc7562d",
   "metadata": {},
   "source": [
    "TABLE OF CONTENTS\n",
    "\n",
    "00:00:00 - Introduction\n",
    "00:00:24 - Et Cetera\n",
    "00:01:45 - set\n",
    "00:07:37 - global\n",
    "00:23:40 - Constants\n",
    "00:29:17 - Type Hints, mypy\n",
    "00:47:38 - Docstrings\n",
    "00:54:54 - argparse\n",
    "01:10:22 - Unpacking\n",
    "01:37:25 - map\n",
    "01:46:37 - List Comprehensions\n",
    "01:52:30 - filter\n",
    "01:58:34 - Dictionary Comprehensions\n",
    "02:05:20 - enumerate\n",
    "02:08:09 - Generators, Iterators, yield\n",
    "02:23:03 - Conclusion"
   ]
  }
 ],
 "metadata": {
  "kernelspec": {
   "display_name": "Python 3 (ipykernel)",
   "language": "python",
   "name": "python3"
  },
  "language_info": {
   "codemirror_mode": {
    "name": "ipython",
    "version": 3
   },
   "file_extension": ".py",
   "mimetype": "text/x-python",
   "name": "python",
   "nbconvert_exporter": "python",
   "pygments_lexer": "ipython3",
   "version": "3.13.5"
  }
 },
 "nbformat": 4,
 "nbformat_minor": 5
}
