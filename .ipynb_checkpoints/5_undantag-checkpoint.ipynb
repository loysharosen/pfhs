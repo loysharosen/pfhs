{
 "cells": [
  {
   "cell_type": "markdown",
   "id": "f9026196-1780-49a0-b1fa-4534c8ac49c0",
   "metadata": {},
   "source": [
    "TABLE OF CONTENTS\n",
    "\n",
    "00:00:00 - Introduction\n",
    "00:00:24 - Exceptions\n",
    "00:00:52 - SyntaxError\n",
    "00:03:29 - ValueError\n",
    "00:08:52 - try, except\n",
    "00:14:18 - NameError\n",
    "00:18:35 - else\n",
    "00:22:40 - Reprompting, break\n",
    "00:29:50 - get_int\n",
    "00:35:48 - pass\n",
    "00:41:32 - Function Arguments\n",
    "00:43:52 - Conclusion"
   ]
  }
 ],
 "metadata": {
  "kernelspec": {
   "display_name": "Python 3 (ipykernel)",
   "language": "python",
   "name": "python3"
  },
  "language_info": {
   "codemirror_mode": {
    "name": "ipython",
    "version": 3
   },
   "file_extension": ".py",
   "mimetype": "text/x-python",
   "name": "python",
   "nbconvert_exporter": "python",
   "pygments_lexer": "ipython3",
   "version": "3.13.5"
  }
 },
 "nbformat": 4,
 "nbformat_minor": 5
}
