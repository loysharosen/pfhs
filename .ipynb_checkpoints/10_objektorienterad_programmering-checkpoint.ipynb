{
 "cells": [
  {
   "cell_type": "markdown",
   "id": "30aca086-709c-4827-b3e4-dadd9c329564",
   "metadata": {},
   "source": [
    "TABLE OF CONTENTS\n",
    "\n",
    "00:00:00 - Introduction\n",
    "00:00:24 - Object-Oriented Programming\n",
    "00:01:00 - Tuples\n",
    "00:18:39 - Dictionaries\n",
    "00:26:45 - Classes and Objects\n",
    "00:39:18 - Instance Methods\n",
    "00:59:49 - Validating Attributes\n",
    "01:04:25 - The String Method\n",
    "01:11:13 - Custom Methods\n",
    "\n",
    "01:38:49 - Types and Classes\n",
    "01:47:23 - Class Methods\n",
    "02:17:29 - Inheritance\n",
    "02:31:59 - Operator Overloading"
   ]
  },
  {
   "cell_type": "markdown",
   "id": "41904aeb-35d7-4bcc-ba30-9ca2f6c816a3",
   "metadata": {},
   "source": [
    "## Properties, Getters and Setters\n",
    "\n",
    "Objekt initierade från klasser har så kallade _getters_ och _setters_."
   ]
  },
  {
   "cell_type": "code",
   "execution_count": null,
   "id": "e0b6b802-bd86-461b-9fed-5e2d743eaaf7",
   "metadata": {},
   "outputs": [],
   "source": [
    "class Patient:\n",
    "    def __init__(self, first_name, last_name, age, egfr):\n",
    "        self.first_name == first_name\n",
    "        self.last_name == last_name\n",
    "        self.age = age\n",
    "        self.egfr = egfr\n",
    "\n",
    "    def __str(self):\n",
    "        return f\"{self.first_name} är {self.age} och har eGFR på {} ml/min.\""
   ]
  },
  {
   "cell_type": "code",
   "execution_count": null,
   "id": "a1879aa7-8d3c-41d6-a716-ec799281f301",
   "metadata": {},
   "outputs": [],
   "source": [
    "tolvan = Patient(\"tolvan\", \"tolvansson\", \"12\", \"60\"\n",
    "\n",
    "print(tolvan)"
   ]
  }
 ],
 "metadata": {
  "kernelspec": {
   "display_name": "Python 3 (ipykernel)",
   "language": "python",
   "name": "python3"
  },
  "language_info": {
   "codemirror_mode": {
    "name": "ipython",
    "version": 3
   },
   "file_extension": ".py",
   "mimetype": "text/x-python",
   "name": "python",
   "nbconvert_exporter": "python",
   "pygments_lexer": "ipython3",
   "version": "3.13.5"
  }
 },
 "nbformat": 4,
 "nbformat_minor": 5
}
