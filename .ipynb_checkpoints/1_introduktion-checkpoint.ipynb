{
 "cells": [
  {
   "cell_type": "markdown",
   "id": "8eea8b1c-5adf-42ed-9893-c0608141bea6",
   "metadata": {},
   "source": [
    "Hej och tack för att påbörjar din programmeringsresa med Healthbit! Alla kan lära sig programmera - du behöver inte ha en teknisk bakgrund. Den här kursen är utformad speciellt för läkare som vill lära sig mer om datorer och programmering. Kursen är interaktiv och du kan skriva och köra kod direkt i webbläsaren. Pröva att klicka i fältet nedan. Tryck sedan Kommando + Enter (Mac) eller Ctrl + Enter (Windows)."
   ]
  },
  {
   "cell_type": "code",
   "execution_count": 7,
   "id": "25d74832-4c9a-4a56-8bb4-67e8e9af4d45",
   "metadata": {},
   "outputs": [
    {
     "name": "stdout",
     "output_type": "stream",
     "text": [
      "Hej, världen!\n"
     ]
    }
   ],
   "source": [
    "print(\"Hej, världen!\")"
   ]
  },
  {
   "cell_type": "markdown",
   "id": "286c1e83-7bc2-48a8-a077-c4bf4efd3375",
   "metadata": {},
   "source": [
    "Grattis, du har nu kört ett stycke Python-kod! Koden är enkel och skriver ut det som står mellan citattecknen. Python är ett av världens mest använda programmeringsspråk. Många av begreppen i språket påminner om vanlig engelska (t. ex. \"print\" ovan) och Python är känt för att vara lättläst. Därför används det ofta i nybörjarundervisning. Samtidigt är Python ett kraftfullt språk, som används för avancerade ändamål som webbutveckling, dataanalys och att arbeta med artificiell intelligens. Spotify och Instagrams webbsidor är till stor del programmerade i Python."
   ]
  },
  {
   "cell_type": "markdown",
   "id": "7925a6b9-ac1c-40a3-88f0-2ab1538c4cab",
   "metadata": {},
   "source": [
    "Några anledningar till varför det är praktiskt att koda. D"
   ]
  }
 ],
 "metadata": {
  "kernelspec": {
   "display_name": "Python 3 (ipykernel)",
   "language": "python",
   "name": "python3"
  },
  "language_info": {
   "codemirror_mode": {
    "name": "ipython",
    "version": 3
   },
   "file_extension": ".py",
   "mimetype": "text/x-python",
   "name": "python",
   "nbconvert_exporter": "python",
   "pygments_lexer": "ipython3",
   "version": "3.13.5"
  }
 },
 "nbformat": 4,
 "nbformat_minor": 5
}
