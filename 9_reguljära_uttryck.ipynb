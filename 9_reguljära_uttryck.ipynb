{
 "cells": [
  {
   "cell_type": "markdown",
   "id": "9713b6f4-ca55-4f48-8657-d2da0027c8e3",
   "metadata": {},
   "source": [
    "TABLE OF CONTENTS\n",
    "\n",
    "00:00:00 - Introduction\n",
    "00:00:24 - Regular Expressions\n",
    "00:01:16 - Validation without Regular Expressions\n",
    "00:10:45 - re Library\n",
    "00:14:04 - Regular Expression Patterns\n",
    "00:33:09 - Matching Start and End\n",
    "00:38:58 - Sets of Characters\n",
    "00:49:18 - Character Classes\n",
    "00:57:38 - Flags\n",
    "01:00:40 - Groups\n",
    "01:10:06 - Email Address Validation\n",
    "01:12:14 - match, fullmatch\n",
    "01:13:47 - format.py\n",
    "01:20:40 - Capturing Groups\n",
    "01:29:57 - Walrus Operator\n",
    "01:32:35 - Extracting from Strings\n",
    "01:40:31 - re.sub\n",
    "01:53:24 - re.search\n",
    "02:03:57 - Conclusion"
   ]
  }
 ],
 "metadata": {
  "kernelspec": {
   "display_name": "Python 3 (ipykernel)",
   "language": "python",
   "name": "python3"
  },
  "language_info": {
   "codemirror_mode": {
    "name": "ipython",
    "version": 3
   },
   "file_extension": ".py",
   "mimetype": "text/x-python",
   "name": "python",
   "nbconvert_exporter": "python",
   "pygments_lexer": "ipython3",
   "version": "3.13.5"
  }
 },
 "nbformat": 4,
 "nbformat_minor": 5
}
