{
 "cells": [
  {
   "cell_type": "markdown",
   "id": "ff515dcf-fced-4ffb-a667-92e8b7d503f5",
   "metadata": {},
   "source": [
    "TABLE OF CONTENTS\n",
    "\n",
    "00:00:00 - Introduction\n",
    "00:00:24 - Unit Tests\n",
    "00:01:15 - Testing calculator.py\n",
    "00:10:20 - assert\n",
    "00:12:18 - AssertionError\n",
    "00:16:58 - pytest\n",
    "00:28:38 - Categories of Tests\n",
    "00:35:53 - Testing for Exceptions\n",
    "00:38:13 - Side Effects and Testing\n",
    "00:47:54 - Collections of Tests\n",
    "00:50:16 - Conclusion"
   ]
  }
 ],
 "metadata": {
  "kernelspec": {
   "display_name": "Python 3 (ipykernel)",
   "language": "python",
   "name": "python3"
  },
  "language_info": {
   "codemirror_mode": {
    "name": "ipython",
    "version": 3
   },
   "file_extension": ".py",
   "mimetype": "text/x-python",
   "name": "python",
   "nbconvert_exporter": "python",
   "pygments_lexer": "ipython3",
   "version": "3.13.5"
  }
 },
 "nbformat": 4,
 "nbformat_minor": 5
}
