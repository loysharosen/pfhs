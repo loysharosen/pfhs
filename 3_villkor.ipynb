{
 "cells": [
  {
   "cell_type": "markdown",
   "id": "9665a1e4-0bc7-4154-8c33-38584852b616",
   "metadata": {},
   "source": [
    "TABLE OF CONTENTS\n",
    "\n",
    "00:00:00 - Introduction\n",
    "00:00:24 - Conditionals\n",
    "00:02:47 - if\n",
    "00:09:56 - elif\n",
    "00:15:06 - else\n",
    "00:18:30 - or\n",
    "00:22:06 - Not Equal\n",
    "00:24:17 - Indentation, Colons\n",
    "00:25:13 - and\n",
    "00:28:48 - Chaining Comparison Operators\n",
    "00:32:20 - Bugs\n",
    "00:34:16 - Modulo\n",
    "00:40:00 - Boolean\n",
    "00:44:10 - Pythonic Expressions\n",
    "00:48:15 - match\n",
    "00:55:41 - Conclusion"
   ]
  }
 ],
 "metadata": {
  "kernelspec": {
   "display_name": "Python 3 (ipykernel)",
   "language": "python",
   "name": "python3"
  },
  "language_info": {
   "codemirror_mode": {
    "name": "ipython",
    "version": 3
   },
   "file_extension": ".py",
   "mimetype": "text/x-python",
   "name": "python",
   "nbconvert_exporter": "python",
   "pygments_lexer": "ipython3",
   "version": "3.13.5"
  }
 },
 "nbformat": 4,
 "nbformat_minor": 5
}
