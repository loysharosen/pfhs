{
 "cells": [
  {
   "cell_type": "markdown",
   "id": "bfb67d58-97f7-4b7d-b497-319258e45846",
   "metadata": {},
   "source": [
    "## Kommandotolken\n",
    "\n",
    "Tidiga datorer hade ingen mus, bara tangentbord. Användare interagerade med datorn genom att skriva text. Programmerare använder ofta fortfarande text för att interagera med datorn. Programmet de skriver i kallas _kommandotolken_. Den kan framstå som kryptisk och svår att använda för den ovane. Med vana är dock kommandotolken ofta mer effektiv än att använda mus.\n",
    "\n",
    "Exmpel på vanliga kommandon:\n",
    "```shell\n",
    "# \"change directory\", byt mapp\n",
    "cd min_mapp\n",
    "\n",
    "# \"list\", visa innehåll i en mapp som en lista\n",
    "ls\n",
    "\n",
    "# \"concatenate\", skriv ut innehållet i en fil eller sammanfoga filer\n",
    "cat min_fil\n",
    "\n",
    "# \"global regular expression print\", sök efter och plocka ut text ur textmassor\n",
    "grep -E '^python/'\n",
    "```"
   ]
  },
  {
   "cell_type": "markdown",
   "id": "75314532-aa84-44c3-9358-ccfd64f978d4",
   "metadata": {},
   "source": [
    "## Kommandotolken\n",
    "\n",
    "Tidiga datorer hade ingen mus, bara tangentbord. Användare interagerade med datorn genom att skriva text. Programmerare använder ofta fortfarande text för att interagera med datorn. Programmet de skriver i kallas _kommandotolken_. Den kan framstå som kryptisk och svår att använda för den ovane. Med vana är dock kommandotolken ofta mer effektiv än att använda mus.\n",
    "\n",
    "Exmpel på vanliga kommandon:\n",
    "```shell\n",
    "# \"change directory\", byt mapp\n",
    "cd min_mapp\n",
    "\n",
    "# \"list\", visa innehåll i en mapp som en lista\n",
    "ls\n",
    "\n",
    "# \"concatenate\", skriv ut innehållet i en fil eller sammanfoga filer\n",
    "cat min_fil\n",
    "\n",
    "# \"global regular expression print\", sök efter och plocka ut text ur textmassor\n",
    "grep -E '^python/'\n",
    "```"
   ]
  },
  {
   "cell_type": "markdown",
   "id": "71c89322-d588-4c68-909f-d9f8e2b116c3",
   "metadata": {},
   "source": [
    "## Programtolk/interpretator\n",
    "\n",
    "När man skrivit programkod kan man köra den på två sätt. En _programtolk_ eller _interpretator_ tolkar texten och utför aktiviteterna som står i den. En _kompilator_ omvandlar texten till maskinkod, som sedan kan köras direkt. Det senare ger i regel bättre prestanda."
   ]
  },
  {
   "cell_type": "markdown",
   "id": "5a363097-a96e-40e7-8a58-bfdef8f86583",
   "metadata": {},
   "source": [
    "## Funktioner, argument, sidoeffekter\n",
    "\n",
    "I programmering är en funktion ett stycke kod, som har ett namn och utför en viss uppgift."
   ]
  },
  {
   "cell_type": "code",
   "execution_count": null,
   "id": "e4ea991f-1b68-494e-a069-9ada0f162516",
   "metadata": {},
   "outputs": [],
   "source": [
    "# En funktion som heter \"tva_plus_tva\", som returnerar värdet av 2 + 2\n",
    "def tva_plus_tva():\n",
    "    return 2+2\n",
    "\n",
    "summa = tva_plus_tva()\n",
    "\n",
    "print(summa)"
   ]
  },
  {
   "cell_type": "markdown",
   "id": "adb08a9b-da5f-469b-bd43-845e7d3d578d",
   "metadata": {},
   "source": [
    "En funktion kan ta emot ett eller flera värden när den anropas, och använda dessa värden för att utföra sin uppgift. Det brukar beskrivas som att en funktion tar emot _parametrar_. De faktiska värden som funktionen tar emot kallas _argument_."
   ]
  },
  {
   "cell_type": "code",
   "execution_count": null,
   "id": "0c559608-bf67-43cd-a360-350bf17302ca",
   "metadata": {},
   "outputs": [],
   "source": [
    "# En funktion som tar emot parametrarna x och y, adderar dem, och returnerar summan\n",
    "def addera(x, y):\n",
    "    return x + y"
   ]
  },
  {
   "cell_type": "code",
   "execution_count": null,
   "id": "307fef77-9c42-493d-8943-ea1a6c78b1c9",
   "metadata": {},
   "outputs": [],
   "source": [
    "# Funktionsanrop med argumenten 2 och 5\n",
    "summa1 = addera(2, 5)\n",
    "\n",
    "print(summa1)"
   ]
  },
  {
   "cell_type": "code",
   "execution_count": null,
   "id": "ddbb2208-ceed-453e-bf1a-d827af73e9f1",
   "metadata": {},
   "outputs": [],
   "source": [
    "# Funktionsanrop med argumenten 3 och 7\n",
    "summa2 = addera(3, 7)\n",
    "\n",
    "print(summa2)"
   ]
  },
  {
   "cell_type": "markdown",
   "id": "4f20a8bd-9b1d-4f63-8d45-fb3e3dfd4236",
   "metadata": {},
   "source": [
    "Funktioner används ofta för att returnera ett värde, men ibland kan funktioner till exempel skriva ut text eller ändra värdet på en variabel. När en funktion gör någonting annat än att returnera ett värde kallas resultatet för en _sidoeffekt_."
   ]
  },
  {
   "cell_type": "code",
   "execution_count": null,
   "id": "0c6d01e1-300c-4c40-988f-d476401e977f",
   "metadata": {},
   "outputs": [],
   "source": [
    "# En funktion vars sidoeffekt skriver \"hej\"\n",
    "def skriv_hej():\n",
    "    print(\"hej\")\n",
    "\n",
    "skriv_hej()"
   ]
  },
  {
   "cell_type": "code",
   "execution_count": null,
   "id": "5135055f-45b6-4ca3-a45c-c36cc2e52125",
   "metadata": {},
   "outputs": [],
   "source": [
    "# En funktion vars sidoeffekt ändrar värdet på variabeln antal\n",
    "antal = 2\n",
    "\n",
    "def byt_varde():\n",
    "    global antal\n",
    "    antal = 3\n",
    "\n",
    "byt_varde()\n",
    "\n",
    "print(antal)"
   ]
  },
  {
   "cell_type": "markdown",
   "id": "fd3bd444-8c32-4743-91fe-02fb6571f83a",
   "metadata": {},
   "source": [
    "## Buggar och felsökning/debugging\n",
    "\n",
    "Det är inte ovanligt att det uppstår fel när man kör sin kod. Ett fel i programkod kallas för _bugg_ efter engelskans [\"bug\"](https://en.wikipedia.org/wiki/Bug_(engineering)#History).\n",
    "\n",
    "När man kör Python-kod som innehåller buggar får man ett felmeddelande, som visar sekvensen som ledde fram till buggen. Meddelandet kallas för _spårningssekvens_ eller _traceback_."
   ]
  },
  {
   "cell_type": "code",
   "execution_count": null,
   "id": "da5d9bef-2618-4495-a6a4-90600c56d9ac",
   "metadata": {},
   "outputs": [],
   "source": [
    "# Kod som innehåller en bugg och genererar ett felmeddelande\n",
    "def hej_plus_tva():\n",
    "    print(\"hej\" + 2)\n",
    "\n",
    "hej_plus_tva()"
   ]
  },
  {
   "cell_type": "markdown",
   "id": "1c471ec2-3f7e-44c7-bf35-937e87fb56bd",
   "metadata": {},
   "source": [
    "Att felsöka och förstå varför det blivit fel i ens program kallas att _debugga_, från engelskans \"debug\". (På svenska förekommer även begreppen lus och avlusning, men bugg och debugging är betydligt vanligare.)"
   ]
  },
  {
   "cell_type": "markdown",
   "id": "6abe9241-8105-4dd8-8c15-5d7ad4238e26",
   "metadata": {},
   "source": [
    "## VS Code och integrereade utvecklingsmiljöer (Integrated Development Environments, IDEs)"
   ]
  },
  {
   "cell_type": "markdown",
   "id": "d604f76e-d217-485c-a9eb-dbaf14ce3bf2",
   "metadata": {},
   "source": [
    "Det går att skriva programkod i vilken textredigerare som helst. Numera finns dock avancerade program specifikt avsedda för att skriva och köra kod, som integrererar olika användbara program såsom kommandotolken, textredigerare och filhanterare i ett och samma verktyg. Ett sådant program kallas _integrererad utvecklingsmiljö_ (_integrated development environment_, _IDE_). Integrereade utvecklingsmiljöer brukar även tillhandahålla användbara stödfunktioner såsom _syntaxmarkering_, _kodgranskningsverktyg_ och _AI-assisterad programmering_."
   ]
  },
  {
   "cell_type": "markdown",
   "id": "8c22a51f-32c6-4dc1-95d6-cd6a28287b9e",
   "metadata": {},
   "source": [
    "## Kommentarer och pseudokod\n",
    "\n",
    "Python-kod påminner i vissa fall om engelska, men kan fortfarande vara kryptisk och svårläst. För att underlätta för andra, och en själv, är det vanligt att skriva _kommentarer_. De skrivs på ett mänskligt språk för att i klartext förklara vad koden gör. I Python tolkas all text till höger om en hashtagg som en kommentar."
   ]
  },
  {
   "cell_type": "code",
   "execution_count": null,
   "id": "eddd74fc-5e1f-4b0a-a3ce-378c3ee4e10e",
   "metadata": {},
   "outputs": [],
   "source": [
    "# Det här är en kommentar\n",
    "\n",
    "print(5 + 5) # Koden till vänster körs, eftersom den är till vänster om hashtaggen\n",
    "\n",
    "# print( 5+5) <-- Den här koden kommer däremot inte att köras, eftersom den är till höger om hashtaggen och betraktas som en kommentar"
   ]
  },
  {
   "cell_type": "code",
   "execution_count": null,
   "id": "a4a78485-9bc6-4710-b54a-6cd17c5e516b",
   "metadata": {},
   "outputs": [],
   "source": [
    "# Funktion som tar emot parametrarna x och y, subtraherar y från x, och returnerar differensen\n",
    "def sub(x, y):\n",
    "    return x - y\n",
    "\n",
    "# Spara differensen i en variabel\n",
    "differens = sub(5, 1)\n",
    "\n",
    "# Skriv ut differensen\n",
    "print(differens)"
   ]
  },
  {
   "cell_type": "markdown",
   "id": "28893cf5-df8e-412c-adba-2d40d459fe41",
   "metadata": {},
   "source": [
    "## Flera funktionsargument"
   ]
  },
  {
   "cell_type": "markdown",
   "id": "0ce2b3cd-66ec-481d-b9a9-40c3f8fe6746",
   "metadata": {},
   "source": [
    "## Namngivna parametrar"
   ]
  },
  {
   "cell_type": "markdown",
   "id": "b736ba46-83f5-456b-b540-10441a959e12",
   "metadata": {},
   "source": [
    "## Använda escape-tecken"
   ]
  },
  {
   "cell_type": "markdown",
   "id": "f696b617-4ba0-4e0c-bd0e-2a82d3c02f7d",
   "metadata": {},
   "source": [
    "## f-strängar"
   ]
  },
  {
   "cell_type": "markdown",
   "id": "51e731ee-83cc-4d79-99db-634d8e5a9ede",
   "metadata": {},
   "source": [
    "## Strängmetoder"
   ]
  },
  {
   "cell_type": "markdown",
   "id": "0dcb3ecd-5cde-4a99-84ef-87cfc2d0f4aa",
   "metadata": {},
   "source": [
    "## Stil"
   ]
  },
  {
   "cell_type": "markdown",
   "id": "cfc438ba-de9a-4151-8416-9298b600e127",
   "metadata": {},
   "source": [
    "## split()"
   ]
  },
  {
   "cell_type": "markdown",
   "id": "355e061d-b6b4-4086-b6a4-5c8eb7c4e870",
   "metadata": {},
   "source": [
    "## Heltal och operatorer"
   ]
  },
  {
   "cell_type": "markdown",
   "id": "6edf1af5-e670-44d9-9117-9c5b418e09f5",
   "metadata": {},
   "source": [
    "## Datatypskonvertering"
   ]
  },
  {
   "cell_type": "markdown",
   "id": "aafb2818-8f15-41a6-a793-f76a33cd0a51",
   "metadata": {},
   "source": [
    "## Flyttal\n",
    "\n",
    "_Flyttal_ är datorers approximering av decimaltal. Anledningen till att decimaltal behöver approximeras är att reella tal ofta har många decimaler. Exempel är talen $\\pi$ och $1/3$, som har ett oändligt antal decimaler. När datorer ska återge sådana tal, tar datorns minne så småningom slut. Resultatet är att reella tal ibland inte kan återges korrekt på datorer."
   ]
  },
  {
   "cell_type": "code",
   "execution_count": 5,
   "id": "079e0455-92e1-4345-9fff-87b749876c29",
   "metadata": {},
   "outputs": [
    {
     "name": "stdout",
     "output_type": "stream",
     "text": [
      "0.5\n",
      "0.3333333333333333148296162562473909929394721984863281250000000000000000000000000000000000000000000000\n"
     ]
    }
   ],
   "source": [
    "# \n",
    "print(1/2)\n",
    "\n",
    "# En tredjedel med 100 decimalers precision\n",
    "print(f\"{1/3:.100f}\")"
   ]
  },
  {
   "cell_type": "markdown",
   "id": "77aaa1e1-d9c4-4ca8-8bef-6e82c9bccf31",
   "metadata": {},
   "source": [
    "## Numerisk formattering"
   ]
  },
  {
   "cell_type": "markdown",
   "id": "8f21efe3-7047-4420-a884-abb25b94f403",
   "metadata": {},
   "source": [
    "## Divison"
   ]
  },
  {
   "cell_type": "markdown",
   "id": "72c1119f-3268-4280-a6fc-fb8b489aa39b",
   "metadata": {},
   "source": [
    "Division kan utföras på två olika sätt:"
   ]
  },
  {
   "cell_type": "code",
   "execution_count": 6,
   "id": "62b4372f-4223-40d5-8ab0-d48c1aab5869",
   "metadata": {},
   "outputs": [
    {
     "data": {
      "text/plain": [
       "9.0"
      ]
     },
     "execution_count": 6,
     "metadata": {},
     "output_type": "execute_result"
    }
   ],
   "source": [
    "# Vanlig division\n",
    "18 / 2"
   ]
  },
  {
   "cell_type": "markdown",
   "id": "4db71998-e417-4d36-ba28-f4d195856d96",
   "metadata": {},
   "source": [
    "Trunkerande division:"
   ]
  },
  {
   "cell_type": "code",
   "execution_count": 7,
   "id": "7635b13e-8ef4-4ccd-a4a1-ac560d9aae85",
   "metadata": {},
   "outputs": [
    {
     "data": {
      "text/plain": [
       "2"
      ]
     },
     "execution_count": 7,
     "metadata": {},
     "output_type": "execute_result"
    }
   ],
   "source": [
    "# Trunkerande division\n",
    "9 // 4"
   ]
  },
  {
   "cell_type": "markdown",
   "id": "be4fa79c-ab48-43ef-9238-c8692bdb9240",
   "metadata": {},
   "source": [
    "Trunkering kallas även avkortning eller stympning. Vid trunkerande division tar man bort alla decimaler och avrundar till närmsta heltal nedåt. Det kan användas när man är intresserad av antalet hela grupper man får vid divisionen."
   ]
  },
  {
   "cell_type": "markdown",
   "id": "e4d35ab1-5755-4c20-bb91-9da591863059",
   "metadata": {},
   "source": [
    "## Definera funktioner"
   ]
  },
  {
   "cell_type": "markdown",
   "id": "8d7ea3f5-3f5c-4152-80ea-8cb82b92f624",
   "metadata": {},
   "source": [
    "## Omfång och åtkomstnivå"
   ]
  },
  {
   "cell_type": "markdown",
   "id": "00b3f8a3-4e2e-4e58-8726-0d17f5bf72ee",
   "metadata": {},
   "source": [
    "## Returvärden"
   ]
  },
  {
   "cell_type": "markdown",
   "id": "988ad072-7f9f-41a4-98b9-d1cd7f56b567",
   "metadata": {},
   "source": [
    "Python går att använda som en miniräknare. Flera av de vanliga räknesätten uttrycks i Python på bekanta sätt. Pröva att köra koden nedan."
   ]
  },
  {
   "cell_type": "code",
   "execution_count": null,
   "id": "3ce847c5-b66b-407f-96a3-df429c3e4763",
   "metadata": {},
   "outputs": [],
   "source": [
    "# Addition\n",
    "3 + 7"
   ]
  },
  {
   "cell_type": "code",
   "execution_count": null,
   "id": "6641f79d-f78b-4e49-a571-003328c4ff8c",
   "metadata": {},
   "outputs": [],
   "source": [
    "# Subtraktion\n",
    "5 - 2"
   ]
  },
  {
   "cell_type": "code",
   "execution_count": null,
   "id": "7673d09a-89f6-447a-823c-d2f2adba793b",
   "metadata": {},
   "outputs": [],
   "source": [
    "# Multiplikation\n",
    "7 * 3"
   ]
  },
  {
   "cell_type": "markdown",
   "id": "45463f2e-ec85-496d-a537-8dc4efe6d9fd",
   "metadata": {},
   "source": [
    "Vissa räkneoperationer uttrycks på sätt som skiljer sig från matematiken."
   ]
  },
  {
   "cell_type": "code",
   "execution_count": null,
   "id": "ac5b06fb-1704-415c-95df-d44d5da814d9",
   "metadata": {},
   "outputs": [],
   "source": [
    "# Exponenter\n",
    "# Fem upphöjt till två\n",
    "5 ** 2"
   ]
  },
  {
   "cell_type": "code",
   "execution_count": null,
   "id": "6638bc70-4d6c-4db9-aa2d-368d6a848574",
   "metadata": {},
   "outputs": [],
   "source": [
    "# Tre upphöjt till två\n",
    "3 ** 2"
   ]
  },
  {
   "cell_type": "markdown",
   "id": "8dd7a85a-3b0d-4126-bf11-8f0b4d56ec39",
   "metadata": {},
   "source": [
    "Moduloräkning:"
   ]
  },
  {
   "cell_type": "code",
   "execution_count": null,
   "id": "1572276f-2609-4435-b4b8-d970a15d09d7",
   "metadata": {},
   "outputs": [],
   "source": [
    "8 % 3"
   ]
  },
  {
   "cell_type": "markdown",
   "id": "7bb18192-ad13-49b1-999b-17d709972e46",
   "metadata": {},
   "source": [
    "Vid moduloräkning får man som svar resten som kvarstår efter divisionen. Det här används flitigt för att bedöma om tal är jämt delbara."
   ]
  },
  {
   "cell_type": "code",
   "execution_count": null,
   "id": "42b5437e-1534-40cb-b085-4aaa6d2849ca",
   "metadata": {},
   "outputs": [],
   "source": [
    "# Jämt delbart. Rest noll\n",
    "8 % 2"
   ]
  },
  {
   "cell_type": "code",
   "execution_count": null,
   "id": "8a9f43a2-1a53-404e-9f77-281842598343",
   "metadata": {},
   "outputs": [],
   "source": [
    "# Ej jämt delbart. Rest ett\n",
    "9 % 2"
   ]
  },
  {
   "cell_type": "markdown",
   "id": "369e2dcd-f66c-4c58-b167-e39e8b3fa1b6",
   "metadata": {},
   "source": [
    "Gå vidare till kapitlet om [Villkor](3_villkor.ipynb)."
   ]
  }
 ],
 "metadata": {
  "kernelspec": {
   "display_name": "Python 3 (ipykernel)",
   "language": "python",
   "name": "python3"
  },
  "language_info": {
   "codemirror_mode": {
    "name": "ipython",
    "version": 3
   },
   "file_extension": ".py",
   "mimetype": "text/x-python",
   "name": "python",
   "nbconvert_exporter": "python",
   "pygments_lexer": "ipython3",
   "version": "3.13.5"
  }
 },
 "nbformat": 4,
 "nbformat_minor": 5
}
