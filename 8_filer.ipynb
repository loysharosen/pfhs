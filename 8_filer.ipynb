{
 "cells": [
  {
   "cell_type": "markdown",
   "id": "cf4e1528-7b96-4d27-9457-33ac8b43e0f9",
   "metadata": {},
   "source": [
    "TABLE OF CONTENTS\n",
    "\n",
    "00:00:00 - Introduction\n",
    "00:00:24 - File I/O\n",
    "00:01:17 - lists\n",
    "00:05:54 - open\n",
    "00:13:55 - with\n",
    "00:21:39 - sorted\n",
    "00:29:31 - Comma-Separated Values\n",
    "00:46:37 - Sort Keys\n",
    "00:53:01 - Lambda Functions\n",
    "00:57:13 - csv Library\n",
    "01:02:17 - csv.reader\n",
    "01:07:49 - csv.DictReader\n",
    "01:14:05 - csv.writer\n",
    "01:16:28 - csv.DictWriter\n",
    "01:23:00 - Images, PIL library\n",
    "01:31:42 - Conclusion"
   ]
  }
 ],
 "metadata": {
  "kernelspec": {
   "display_name": "Python 3 (ipykernel)",
   "language": "python",
   "name": "python3"
  },
  "language_info": {
   "codemirror_mode": {
    "name": "ipython",
    "version": 3
   },
   "file_extension": ".py",
   "mimetype": "text/x-python",
   "name": "python",
   "nbconvert_exporter": "python",
   "pygments_lexer": "ipython3",
   "version": "3.13.5"
  }
 },
 "nbformat": 4,
 "nbformat_minor": 5
}
