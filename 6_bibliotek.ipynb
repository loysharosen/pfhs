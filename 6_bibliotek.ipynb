{
 "cells": [
  {
   "cell_type": "markdown",
   "id": "cc6f7f02-d461-4c32-bf66-1e8a3d4d14ae",
   "metadata": {},
   "source": [
    "TABLE OF CONTENTS\n",
    "\n",
    "00:00:00 - Introduction\n",
    "00:00:24 - Libraries\n",
    "00:00:54 - Modules\n",
    "00:03:13 - import\n",
    "00:07:35 - from\n",
    "00:11:23 - randint, shuffle\n",
    "00:17:01 - statistics\n",
    "00:19:13 - Command-line Arguments, sys\n",
    "00:32:59 - sys.exit\n",
    "00:40:55 - Slices\n",
    "00:44:41 - Packages, PyPI, pip\n",
    "00:47:10 - cowsay\n",
    "00:53:26 - APIs, requests, JSON\n",
    "01:10:06 - Custom Libraries\n",
    "\n",
    "\n",
    "I Python kan man låna in kod som andra skrivit, och använda i sina egna program."
   ]
  },
  {
   "cell_type": "code",
   "execution_count": null,
   "id": "1ee6207f-f8ba-4bee-882f-f07cf158d819",
   "metadata": {},
   "outputs": [],
   "source": []
  },
  {
   "cell_type": "markdown",
   "id": "c337dfc1-276e-4207-8453-747ef4d76c64",
   "metadata": {},
   "source": [
    "En modul är en Python-fil. Ett paket är en mapp med flera moduler. Ett bibliotek (på eng. _library_"
   ]
  }
 ],
 "metadata": {
  "kernelspec": {
   "display_name": "Python 3 (ipykernel)",
   "language": "python",
   "name": "python3"
  },
  "language_info": {
   "codemirror_mode": {
    "name": "ipython",
    "version": 3
   },
   "file_extension": ".py",
   "mimetype": "text/x-python",
   "name": "python",
   "nbconvert_exporter": "python",
   "pygments_lexer": "ipython3",
   "version": "3.13.5"
  }
 },
 "nbformat": 4,
 "nbformat_minor": 5
}
