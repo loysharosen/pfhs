{
 "cells": [
  {
   "cell_type": "markdown",
   "id": "30aca086-709c-4827-b3e4-dadd9c329564",
   "metadata": {},
   "source": [
    "TABLE OF CONTENTS\n",
    "\n",
    "00:00:00 - Introduction\n",
    "00:00:24 - Object-Oriented Programming\n",
    "00:01:00 - Tuples\n",
    "00:18:39 - Dictionaries\n",
    "00:26:45 - Classes and Objects\n",
    "00:39:18 - Instance Methods\n",
    "01:04:25 - The String Method\n",
    "01:11:13 - Custom Methods\n",
    "\n",
    "01:38:49 - Types and Classes\n",
    "01:47:23 - Class Methods\n",
    "02:17:29 - Inheritance\n",
    "02:31:59 - Operator Overloading"
   ]
  },
  {
   "cell_type": "markdown",
   "id": "0697c477-7973-4f93-8cd3-7ae7a9ca3e7b",
   "metadata": {},
   "source": [
    "## Validating Attributes\n",
    "\n",
    "Ett _attribut_ är en egenskap hos en klass eller en instans av ett objekt. _Klassattribut_ är åtkomliga för alla objekt av en viss klass, medan _instansattribut_ är åtkomliga endast för den enskilda instansen."
   ]
  },
  {
   "cell_type": "code",
   "execution_count": 49,
   "id": "dee13415-3718-4ca1-b45a-76fb6e2b9108",
   "metadata": {},
   "outputs": [
    {
     "name": "stdout",
     "output_type": "stream",
     "text": [
      "car\n",
      "Toyota\n",
      "Camry\n",
      "car\n",
      "Honda\n",
      "Civic\n"
     ]
    }
   ],
   "source": [
    "class Car:\n",
    "    # klassattribut\n",
    "    vehicle_type = \"car\"\n",
    "    \n",
    "    def __init__(self, brand, model):\n",
    "        # instansattribut\n",
    "        self.brand = brand\n",
    "        self.model = model\n",
    "\n",
    "car1 = Car(\"Toyota\", \"Camry\")\n",
    "car2 = Car(\"Honda\", \"Civic\")\n",
    "\n",
    "print(car1.vehicle_type)\n",
    "print(car1.brand)\n",
    "print(car1.model)\n",
    "\n",
    "print(car2.vehicle_type)\n",
    "print(car2.brand)\n",
    "print(car2.model)"
   ]
  },
  {
   "cell_type": "markdown",
   "id": "41904aeb-35d7-4bcc-ba30-9ca2f6c816a3",
   "metadata": {},
   "source": [
    "## Properties, Getters and Setters\n",
    "\n",
    "I samband med att du skapar objekt från klasser kan du använda så kallde _hämtare_ (_getters_) och _sättare_ (_setters_). En av fördelarna med _setters_ är att du kan förlägga din indatavalidering utanför dunder init-metoden, så att validering sker varje gång ett attribut sätts, inte bara vid objektets skapande. En annan fördel är att du kan skydda interna attribut genom att göra dem privata (t.ex. _age) och tillåta åtkomst och modifiering bara via metoder. Det minskar risken för oavsiktlig eller otillåten manipulering av data."
   ]
  },
  {
   "cell_type": "code",
   "execution_count": 1,
   "id": "e0b6b802-bd86-461b-9fed-5e2d743eaaf7",
   "metadata": {},
   "outputs": [],
   "source": [
    "class Tolvan:\n",
    "    def __init__(self, first_name, last_name, age, egfr):\n",
    "        self.first_name = first_name\n",
    "        self.last_name = last_name\n",
    "        self.age = age\n",
    "        self.egfr = egfr\n",
    "\n",
    "    def __str__(self):\n",
    "        return f\"{self.first_name} {self.last_name} är {self.age} och har eGFR på {self.egfr} ml/min.\"\n",
    "\n",
    "    @property\n",
    "    def first_name(self):\n",
    "        return self._first_name\n",
    "\n",
    "    @first_name.setter\n",
    "    def first_name(self, first_name):\n",
    "        if first_name != \"Tolvan\":\n",
    "            raise ValueError(\"Invalid first name.\")\n",
    "        self._first_name = first_name\n",
    "\n",
    "    @property\n",
    "    def last_name(self):\n",
    "        return self._last_name\n",
    "\n",
    "    @last_name.setter\n",
    "    def last_name(self, last_name):\n",
    "        if last_name != \"Tolvansson\":\n",
    "            raise ValueError(\"Invalid last name.\")\n",
    "        self._last_name = last_name"
   ]
  },
  {
   "cell_type": "code",
   "execution_count": 2,
   "id": "a1879aa7-8d3c-41d6-a716-ec799281f301",
   "metadata": {},
   "outputs": [
    {
     "name": "stdout",
     "output_type": "stream",
     "text": [
      "Tolvan Tolvansson är 12 och har eGFR på 60 ml/min.\n"
     ]
    }
   ],
   "source": [
    "tolvan = Tolvan(\"Tolvan\", \"Tolvansson\", \"12\", \"60\")\n",
    "\n",
    "print(tolvan)"
   ]
  },
  {
   "cell_type": "code",
   "execution_count": 3,
   "id": "3464398e-8d43-475b-9912-b8d7c46a31e3",
   "metadata": {},
   "outputs": [
    {
     "name": "stdout",
     "output_type": "stream",
     "text": [
      "Tolvan\n"
     ]
    },
    {
     "ename": "ValueError",
     "evalue": "Invalid last name.",
     "output_type": "error",
     "traceback": [
      "\u001b[31m---------------------------------------------------------------------------\u001b[39m",
      "\u001b[31mValueError\u001b[39m                                Traceback (most recent call last)",
      "\u001b[36mCell\u001b[39m\u001b[36m \u001b[39m\u001b[32mIn[3]\u001b[39m\u001b[32m, line 3\u001b[39m\n\u001b[32m      1\u001b[39m \u001b[38;5;28mprint\u001b[39m(tolvan.first_name)\n\u001b[32m----> \u001b[39m\u001b[32m3\u001b[39m \u001b[43mtolvan\u001b[49m\u001b[43m.\u001b[49m\u001b[43mlast_name\u001b[49m = \u001b[33m\"\u001b[39m\u001b[33mMartinsson\u001b[39m\u001b[33m\"\u001b[39m\n\u001b[32m      5\u001b[39m \u001b[38;5;28mprint\u001b[39m(tolvan.first_name)\n",
      "\u001b[36mCell\u001b[39m\u001b[36m \u001b[39m\u001b[32mIn[1]\u001b[39m\u001b[32m, line 28\u001b[39m, in \u001b[36mTolvan.last_name\u001b[39m\u001b[34m(self, last_name)\u001b[39m\n\u001b[32m     25\u001b[39m \u001b[38;5;129m@last_name\u001b[39m.setter\n\u001b[32m     26\u001b[39m \u001b[38;5;28;01mdef\u001b[39;00m\u001b[38;5;250m \u001b[39m\u001b[34mlast_name\u001b[39m(\u001b[38;5;28mself\u001b[39m, last_name):\n\u001b[32m     27\u001b[39m     \u001b[38;5;28;01mif\u001b[39;00m last_name != \u001b[33m\"\u001b[39m\u001b[33mTolvansson\u001b[39m\u001b[33m\"\u001b[39m:\n\u001b[32m---> \u001b[39m\u001b[32m28\u001b[39m         \u001b[38;5;28;01mraise\u001b[39;00m \u001b[38;5;167;01mValueError\u001b[39;00m(\u001b[33m\"\u001b[39m\u001b[33mInvalid last name.\u001b[39m\u001b[33m\"\u001b[39m)\n\u001b[32m     29\u001b[39m     \u001b[38;5;28mself\u001b[39m._last_name = last_name\n",
      "\u001b[31mValueError\u001b[39m: Invalid last name."
     ]
    }
   ],
   "source": [
    "print(tolvan.first_name)\n",
    "\n",
    "tolvan.last_name = \"Martinsson\"\n",
    "\n",
    "print(tolvan.first_name)"
   ]
  }
 ],
 "metadata": {
  "kernelspec": {
   "display_name": "Python 3 (ipykernel)",
   "language": "python",
   "name": "python3"
  },
  "language_info": {
   "codemirror_mode": {
    "name": "ipython",
    "version": 3
   },
   "file_extension": ".py",
   "mimetype": "text/x-python",
   "name": "python",
   "nbconvert_exporter": "python",
   "pygments_lexer": "ipython3",
   "version": "3.13.5"
  }
 },
 "nbformat": 4,
 "nbformat_minor": 5
}
