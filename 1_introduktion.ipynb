{
 "cells": [
  {
   "cell_type": "markdown",
   "id": "8eea8b1c-5adf-42ed-9893-c0608141bea6",
   "metadata": {},
   "source": [
    "# Python i hälso- och sjukvård\n",
    "## Introduktion\n",
    "Det bästa sättet att lära sig programmera är att skriva och köra kod.\n",
    "\n",
    "Klicka i fältet nedan. Tryck sedan Kommando + Enter (Mac) eller Ctrl + Enter (Windows)."
   ]
  },
  {
   "cell_type": "code",
   "execution_count": null,
   "id": "25d74832-4c9a-4a56-8bb4-67e8e9af4d45",
   "metadata": {},
   "outputs": [],
   "source": [
    "print(\"Hej, doktorn!\")"
   ]
  },
  {
   "cell_type": "markdown",
   "id": "286c1e83-7bc2-48a8-a077-c4bf4efd3375",
   "metadata": {},
   "source": [
    "Bra jobbat! Du har precis kört ett stycke Python-kod."
   ]
  },
  {
   "cell_type": "markdown",
   "id": "fc201719-7bfe-4e84-bdae-28d224372ef5",
   "metadata": {},
   "source": [
    "Koden anropar en funktion som heter `print()`, som i sin tur skriver ut det som står mellan citattecknen. Pröva att ändra texten mellan parenteserna till \"Hej, världen!\" och kör igen."
   ]
  },
  {
   "cell_type": "markdown",
   "id": "9803bb7b-10bd-4f51-9679-6aa6ccce6e0c",
   "metadata": {},
   "source": [
    "## Varför Python?\n",
    "\n",
    "Det finns tusentals programmeringsspråk. Bland dessa är Python ett av världens mest använda."
   ]
  },
  {
   "cell_type": "markdown",
   "id": "0396d1bf-2d81-43cd-88e9-dddfb4af102a",
   "metadata": {},
   "source": [
    "Python är känt för att vara lättläst. Många av begreppen i språket påminner om vanlig engelska (till exempel `print`). Därför används det ofta i nybörjarundervisning."
   ]
  },
  {
   "cell_type": "code",
   "execution_count": null,
   "id": "23dd8c3f-d5fc-46d2-ba10-2af5c1299f95",
   "metadata": {},
   "outputs": [],
   "source": [
    "symptoms = [\"calor\", \"dolor\", \"tumor\", \"rubor\"]\n",
    "for symptom in symptoms:\n",
    "    print(symptom)"
   ]
  },
  {
   "cell_type": "markdown",
   "id": "acfeb393-34a1-49fb-857f-ea402f548fbe",
   "metadata": {},
   "source": [
    "Motsvarande kod i några andra vanliga språk:\n",
    "```c\n",
    "#include <stdio.h>\n",
    "\n",
    "int main(void) {\n",
    "    // kod här\n",
    "}\n",
    "```\n",
    "\n",
    "```javascript\n",
    "let names = (\"calor\"\n",
    "```\n"
   ]
  },
  {
   "cell_type": "markdown",
   "id": "cf2744f0-12fd-4ecd-a4f0-10880ab2b250",
   "metadata": {},
   "source": [
    "Samtidigt är Python ett avancerat språk och används för bland annat webbutveckling, dataanalys och arbete med artificiell intelligens. Python är ett bra första språk att lära sig eftersom det är användarvänligt och kan användas i många olika sammanhang."
   ]
  },
  {
   "cell_type": "markdown",
   "id": "f407e844-8db9-4472-bde4-4758c978cb65",
   "metadata": {},
   "source": [
    " Andra populära programmeringsspråk är Java, C++, JavaScript och R."
   ]
  },
  {
   "cell_type": "markdown",
   "id": "7925a6b9-ac1c-40a3-88f0-2ab1538c4cab",
   "metadata": {},
   "source": [
    "## Varför programmera?\n",
    "\n",
    "Datorprogram är räknar snabbare och bättre än människor."
   ]
  },
  {
   "cell_type": "code",
   "execution_count": null,
   "id": "9eabb915-c634-444d-ba4c-84fcd742560d",
   "metadata": {},
   "outputs": [],
   "source": [
    "# Kod för att räkna ut BMI\n",
    "vikt = 75\n",
    "längd = 180\n",
    "bmi = vikt / (längd / 100) ** 2\n",
    "print(f\"Vikt: {vikt}, Längd: {längd}\")\n",
    "print(f\"BMI: {bmi:.1f}\")"
   ]
  },
  {
   "cell_type": "markdown",
   "id": "ad251aac-fe41-47ce-a4df-46cc059149f0",
   "metadata": {},
   "source": [
    "Datorprogram kan visualisera data effektivt:"
   ]
  },
  {
   "cell_type": "code",
   "execution_count": null,
   "id": "d325fcad-b5cd-404f-be2e-70ccb6893c6b",
   "metadata": {},
   "outputs": [],
   "source": [
    "# Kod som visualiserar \n",
    "import numpy as np\n",
    "import matplotlib.pyplot as plt\n",
    "\n",
    "x = np.arange(0, 5, 0.1)\n",
    "y = np.sin(x)\n",
    "fig, ax = plt.subplots()\n",
    "ax.plot(x, y)"
   ]
  },
  {
   "cell_type": "markdown",
   "id": "39683597-5e78-4afb-a68f-48ce2c6f9d97",
   "metadata": {},
   "source": [
    "Python används i utveckling av artificiell intelligens. Python användes också i utvecklingen av Battlefield 2, The Sims 4, Spotify, Instagram och YouTube."
   ]
  },
  {
   "cell_type": "markdown",
   "id": "18017774-c664-4a9a-b279-45926c14384e",
   "metadata": {},
   "source": [
    "Gå vidare till [Funktioner](2_funktioner.ipynb)."
   ]
  }
 ],
 "metadata": {
  "kernelspec": {
   "display_name": "Python 3 (ipykernel)",
   "language": "python",
   "name": "python3"
  },
  "language_info": {
   "codemirror_mode": {
    "name": "ipython",
    "version": 3
   },
   "file_extension": ".py",
   "mimetype": "text/x-python",
   "name": "python",
   "nbconvert_exporter": "python",
   "pygments_lexer": "ipython3",
   "version": "3.13.5"
  }
 },
 "nbformat": 4,
 "nbformat_minor": 5
}
